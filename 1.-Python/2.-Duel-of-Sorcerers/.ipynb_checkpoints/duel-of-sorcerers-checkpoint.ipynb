{
 "cells": [
  {
   "cell_type": "markdown",
   "metadata": {},
   "source": [
    "<img src=\"https://bit.ly/2VnXWr2\" width=\"100\" align=\"left\">"
   ]
  },
  {
   "cell_type": "markdown",
   "metadata": {},
   "source": [
    "# Duel of Sorcerers\n",
    "You are witnessing an epic battle between two powerful sorcerers: Gandalf and Saruman. Each sorcerer has 10 spells of variable power in their mind and they are going to throw them one after the other. The winner of the duel will be the one who wins more of those clashes between spells. Spells are represented as a list of 10 integers whose value equals the power of the spell.\n",
    "```\n",
    "gandalf = [10, 11, 13, 30, 22, 11, 10, 33, 22, 22]\n",
    "saruman = [23, 66, 12, 43, 12, 10, 44, 23, 12, 17]\n",
    "```\n",
    "For example:\n",
    "- The first clash is won by Saruman: 10 against 23.\n",
    "- The second clash is won by Saruman: 11 against 66.\n",
    "- ...\n",
    "\n",
    "You will create two variables, one for each sorcerer, where the sum of clashes won will be stored. Depending on which variable is greater at the end of the duel, you will show one of the following three results on the screen:\n",
    "* Gandalf wins\n",
    "* Saruman wins\n",
    "* Tie\n",
    "\n",
    "<img src=\"images/content_lightning_bolt_big.jpg\" width=\"400\">"
   ]
  },
  {
   "cell_type": "markdown",
   "metadata": {},
   "source": [
    "## Tools\n",
    "You don't necessarily need to use all the tools. Maybe you opt to use some of them or completely different ones, they are given to help you shape the exercise. Programming exercises can be solved in many different ways.\n",
    "\n",
    "1. Data structures: **lists, dictionaries**\n",
    "2. Loop: **for loop**\n",
    "3. Conditional statements: **if-elif-else**\n",
    "4. Functions: **range(), len(), print()**\n",
    "\n",
    "## Tasks\n",
    "\n",
    "#### 1. Create two variables called `gandalf` and `saruman` and assign them the spell power lists. Create a variable called `spells` to store the number of spells that the sorcerers cast. "
   ]
  },
  {
   "cell_type": "code",
   "execution_count": 1,
   "metadata": {},
   "outputs": [],
   "source": [
    "gandalf = [10, 11, 13, 30, 22, 11, 10, 33, 22, 22]\n",
    "saruman = [23, 66, 12, 43, 12, 10, 44, 23, 12, 17]\n",
    "spells = len(gandalf)"
   ]
  },
  {
   "cell_type": "markdown",
   "metadata": {},
   "source": [
    "#### 2. Create two variables called `gandalf_wins` and `saruman_wins`. Set both of them to 0. \n",
    "You will use these variables to count the number of clashes each sorcerer wins. "
   ]
  },
  {
   "cell_type": "code",
   "execution_count": 2,
   "metadata": {},
   "outputs": [],
   "source": [
    "gandalf_wins = 0\n",
    "saruman_wins = 0"
   ]
  },
  {
   "cell_type": "markdown",
   "metadata": {},
   "source": [
    "#### 3. Using the lists of spells of both sorcerers, update variables `gandalf_wins` and `saruman_wins` to count the number of times each sorcerer wins a clash. "
   ]
  },
  {
   "cell_type": "code",
   "execution_count": 3,
   "metadata": {},
   "outputs": [],
   "source": [
    "result = ''\n",
    "counter = 0\n",
    "\n",
    "while counter <= spells - 1:\n",
    "    if gandalf[counter] > saruman[counter]:\n",
    "        gandalf_wins += 1\n",
    "        counter += 1\n",
    "    else:\n",
    "        saruman_wins += 1\n",
    "        counter += 1\n",
    "        \n",
    "if gandalf_wins > saruman_wins:\n",
    "    result = 'Gandalf wins with ' + str(gandalf_wins) + ' over ' + str(saruman_wins) + '.'\n",
    "elif gandalf_wins < saruman_wins:\n",
    "    result = 'Saruman wins with ' + str(saruman_wins) + ' over ' + str(gandalf_wins) + '.'\n",
    "else:\n",
    "    result = 'Tie'"
   ]
  },
  {
   "cell_type": "markdown",
   "metadata": {},
   "source": [
    "#### 4. Who won the battle?\n",
    "Print `Gandalf wins`, `Saruman wins` or `Tie` depending on the result. "
   ]
  },
  {
   "cell_type": "code",
   "execution_count": 4,
   "metadata": {},
   "outputs": [
    {
     "name": "stdout",
     "output_type": "stream",
     "text": [
      "Gandalf wins with 6 over 4.\n"
     ]
    }
   ],
   "source": [
    "print(result)"
   ]
  },
  {
   "cell_type": "markdown",
   "metadata": {},
   "source": [
    "## Bonus\n",
    "\n",
    "In this bonus challenge, you'll need to check the winner of the battle but this time, a sorcerer wins if he succeeds in winning 3 spell clashes in a row.\n",
    "\n",
    "Also, the spells now have a name and there is a dictionary that associates that name to a power.\n",
    "\n",
    "```\n",
    "POWER = {\n",
    "    'Fireball': 50, \n",
    "    'Lightning bolt': 40, \n",
    "    'Magic arrow': 10, \n",
    "    'Black Tentacles': 25, \n",
    "    'Contagion': 45\n",
    "}\n",
    "\n",
    "gandalf = ['Fireball', 'Lightning bolt', 'Lightning bolt', 'Magic arrow', 'Fireball', \n",
    "           'Magic arrow', 'Lightning bolt', 'Fireball', 'Fireball', 'Fireball']\n",
    "saruman = ['Contagion', 'Contagion', 'Black Tentacles', 'Fireball', 'Black Tentacles', \n",
    "           'Lightning bolt', 'Magic arrow', 'Contagion', 'Magic arrow', 'Magic arrow']\n",
    "```\n",
    "\n",
    "#### 1. Create variables `POWER`, `gandalf` and `saruman` as seen above. Create a variable called `spells` to store the number of spells that the sorcerers cast. "
   ]
  },
  {
   "cell_type": "code",
   "execution_count": 5,
   "metadata": {},
   "outputs": [],
   "source": [
    "power = {\n",
    "    'Fireball': 50, \n",
    "    'Lightning bolt': 40, \n",
    "    'Magic arrow': 10, \n",
    "    'Black Tentacles': 25, \n",
    "    'Contagion': 45\n",
    "}\n",
    "\n",
    "gandalf = ['Fireball', 'Lightning bolt', 'Lightning bolt', 'Magic arrow', 'Fireball', \n",
    "           'Magic arrow', 'Lightning bolt', 'Fireball', 'Fireball', 'Fireball']\n",
    "saruman = ['Contagion', 'Contagion', 'Black Tentacles', 'Fireball', 'Black Tentacles', \n",
    "           'Lightning bolt', 'Magic arrow', 'Contagion', 'Magic arrow', 'Magic arrow']"
   ]
  },
  {
   "cell_type": "markdown",
   "metadata": {},
   "source": [
    "#### 2. Create two variables called `gandalf_wins` and `saruman_wins`. Set both of them to 0. "
   ]
  },
  {
   "cell_type": "code",
   "execution_count": 6,
   "metadata": {},
   "outputs": [],
   "source": [
    "gandalf_wins = 0\n",
    "saruman_wins = 0"
   ]
  },
  {
   "cell_type": "markdown",
   "metadata": {},
   "source": [
    "#### 3. Create two variables called `gandalf_power` and `saruman_power` to store the list of spell powers of each sorcerer."
   ]
  },
  {
   "cell_type": "code",
   "execution_count": 7,
   "metadata": {},
   "outputs": [],
   "source": [
    "gandalf_power = []\n",
    "saruman_power = []"
   ]
  },
  {
   "cell_type": "markdown",
   "metadata": {},
   "source": [
    "#### 4. The battle starts! Using the variables you've created above, code the execution of spell clashes. Remember that a sorcerer wins if he succeeds in winning 3 spell clashes in a row. \n",
    "If a clash ends up in a tie, the counter of wins in a row is not restarted to 0. Remember to print who is the winner of the battle. "
   ]
  },
  {
   "cell_type": "code",
   "execution_count": 8,
   "metadata": {},
   "outputs": [
    {
     "name": "stdout",
     "output_type": "stream",
     "text": [
      "Gandalf wins with three spells clashes in a row.\n",
      "7\n",
      "Gandalf wins with 7 over 3.\n"
     ]
    }
   ],
   "source": [
    "def get_power(name):\n",
    "    result = []\n",
    "    for power_name in range(len(name)):\n",
    "        temp = name[power_name]\n",
    "        result.append(power[temp])\n",
    "    return result\n",
    "    \n",
    "gandalf_power = get_power(gandalf)\n",
    "saruman_power = get_power(saruman)\n",
    "\n",
    "result = ''\n",
    "counter = 0\n",
    "count_three_gandalf = 0\n",
    "count_three_saruman = 0\n",
    "\n",
    "while counter <= spells - 1:\n",
    "    if gandalf_power[counter] > saruman_power[counter]:\n",
    "        count_three_gandalf += 1\n",
    "        count_three_saruman = 0\n",
    "        gandalf_wins += 1\n",
    "        counter += 1\n",
    "        if count_three_gandalf == 3:\n",
    "            print('Gandalf wins with three spells clashes in a row.')\n",
    "    else:\n",
    "        count_three_gandalf = 0\n",
    "        count_three_saruman += 1\n",
    "        saruman_wins += 1\n",
    "        counter += 1\n",
    "        if count_three_gandalf == 3:\n",
    "            print('Saruman wins with three spells clashes in a row.')\n",
    "            \n",
    "print(gandalf_wins)\n",
    "        \n",
    "if gandalf_wins > saruman_wins:\n",
    "    result = 'Gandalf wins with ' + str(gandalf_wins) + ' over ' + str(saruman_wins) + '.'\n",
    "elif gandalf_wins < saruman_wins:\n",
    "    result = 'Saruman wins with ' + str(saruman_wins) + ' over ' + str(gandalf_wins) + '.'\n",
    "else:\n",
    "    result = 'Tie'\n",
    "    \n",
    "print(result)\n",
    "\n",
    "gandalf_wins = 0\n",
    "saruman_wins = 0"
   ]
  },
  {
   "cell_type": "markdown",
   "metadata": {},
   "source": [
    "#### 5. Find the average spell power of Gandalf and Saruman. "
   ]
  },
  {
   "cell_type": "code",
   "execution_count": 9,
   "metadata": {},
   "outputs": [
    {
     "name": "stdout",
     "output_type": "stream",
     "text": [
      "The average spell power of Gandalf is 39.0 and of Saruman 30.5.\n"
     ]
    }
   ],
   "source": [
    "average_gandalf = sum(gandalf_power) / len(gandalf_power)\n",
    "average_saruman = sum(saruman_power) / len(saruman_power)\n",
    "\n",
    "print(\"The average spell power of Gandalf is \" + str(average_gandalf) + \" and of Saruman \" + str(average_saruman) + \".\")"
   ]
  },
  {
   "cell_type": "markdown",
   "metadata": {},
   "source": [
    "#### 6. Find the standard deviation of the spell power of Gandalf and Saruman. "
   ]
  },
  {
   "cell_type": "code",
   "execution_count": 25,
   "metadata": {},
   "outputs": [
    {
     "name": "stdout",
     "output_type": "stream",
     "text": [
      "[50, 40, 40, 10, 50, 10, 40, 50, 50, 50]\n",
      "[45, 45, 25, 50, 25, 40, 10, 45, 10, 10]\n",
      "The standard deviations are 15.132745950421556 and 15.56438241627338.\n"
     ]
    }
   ],
   "source": [
    "import math\n",
    "\n",
    "print(gandalf_power)\n",
    "print(saruman_power)\n",
    "\n",
    "def stan_dev(new_list):\n",
    "    index = 0\n",
    "    variance = 0\n",
    "    temp_list = [] \n",
    "    average = sum(new_list) / len(new_list)\n",
    "    while index <= len(new_list) - 1:\n",
    "        temp_list.append((new_list[index] - average)**2)\n",
    "        index += 1\n",
    "                         \n",
    "    sum_temp_list = sum(temp_list)\n",
    "    variance = (1 / len(new_list)) * sum_temp_list \n",
    "    return variance\n",
    "\n",
    "sd_gan = stan_dev(gandalf_power)\n",
    "sd_saru = stan_dev(saruman_power)\n",
    "    \n",
    "print(\"The standard deviations are \" + str(math.sqrt(sd_gan)) + \" and \" + str(math.sqrt(sd_saru)) + \".\")"
   ]
  },
  {
   "cell_type": "code",
   "execution_count": null,
   "metadata": {},
   "outputs": [],
   "source": []
  }
 ],
 "metadata": {
  "kernelspec": {
   "display_name": "Python 3",
   "language": "python",
   "name": "python3"
  },
  "language_info": {
   "codemirror_mode": {
    "name": "ipython",
    "version": 3
   },
   "file_extension": ".py",
   "mimetype": "text/x-python",
   "name": "python",
   "nbconvert_exporter": "python",
   "pygments_lexer": "ipython3",
   "version": "3.9.1"
  }
 },
 "nbformat": 4,
 "nbformat_minor": 2
}
