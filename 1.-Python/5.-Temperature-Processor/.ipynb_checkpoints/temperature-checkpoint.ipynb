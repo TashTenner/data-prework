{
 "cells": [
  {
   "cell_type": "markdown",
   "metadata": {},
   "source": [
    "<img src=\"https://bit.ly/2VnXWr2\" width=\"100\" align=\"left\">"
   ]
  },
  {
   "cell_type": "markdown",
   "metadata": {},
   "source": [
    "# Temperature Sensor\n",
    "\n",
    "There is a temperature sensor in the processor of your company's server. The company wants to analyze the data provided by the sensor to decide if they should change the cooling system for a better one. As changing the cooling system is expensive and you are an excellent data analyst, you can't make a decision without basis.\n",
    "\n",
    "## Tools\n",
    "You don't necessarily need to use all the tools. Maybe you opt to use some of them or completely different ones, they are given to help you shape the exercise. Programming exercises can be solved in many different ways.\n",
    "1. Data structures: **lists**\n",
    "2. Loops: **list comprehension**\n",
    "3. Functions: **min, max, print, len**\n",
    "4. Conditional statements: **if-elif-else**\n",
    "\n",
    "## Tasks\n",
    "The temperatures measured throughout the 24 hours of a day are:"
   ]
  },
  {
   "cell_type": "code",
   "execution_count": 1,
   "metadata": {},
   "outputs": [],
   "source": [
    "temperatures_C = [33, 66, 65, 0, 59, 60, 62, 64, 70, 76, 80, 81, 80, 83, 90, 79, 61, 53, 50, 49, 53, 48, 45, 39]"
   ]
  },
  {
   "cell_type": "markdown",
   "metadata": {},
   "source": [
    "The first element of the list is the temperature at 12am, the second element is the temperature at 1am, and so on. \n",
    "\n",
    "The company has decided that if one of the following events occurs, then the cooling system needs to be replaced for a new one to avoid damaging the processor.\n",
    "* More than 4 temperatures are greater than or equal to 70ºC.\n",
    "* Any temperature is above 80ºC.\n",
    "* The average temperature exceeds 65ºC.\n",
    "\n",
    "Follow the steps so that you can make the decision.\n",
    "\n",
    "#### 1. Find the minimum temperature of the day and store it in a variable."
   ]
  },
  {
   "cell_type": "code",
   "execution_count": 2,
   "metadata": {},
   "outputs": [
    {
     "name": "stdout",
     "output_type": "stream",
     "text": [
      "The minimum temperature of the day is 0.\n"
     ]
    }
   ],
   "source": [
    "min_temp = min(temperatures_C)\n",
    "print('The minimum temperature of the day is ' + str(min_temp) + '.')"
   ]
  },
  {
   "cell_type": "markdown",
   "metadata": {},
   "source": [
    "#### 2. Find the maximum temperature of the day and store it in a variable."
   ]
  },
  {
   "cell_type": "code",
   "execution_count": 3,
   "metadata": {},
   "outputs": [
    {
     "name": "stdout",
     "output_type": "stream",
     "text": [
      "The maximum temperature of the day is 90.\n"
     ]
    }
   ],
   "source": [
    "max_temp = max(temperatures_C)\n",
    "print('The maximum temperature of the day is ' + str(max_temp) + '.')"
   ]
  },
  {
   "cell_type": "markdown",
   "metadata": {},
   "source": [
    "#### 3. Create a list with the temperatures that are greater than or equal to 70ºC. Store it in a variable."
   ]
  },
  {
   "cell_type": "code",
   "execution_count": 4,
   "metadata": {},
   "outputs": [
    {
     "name": "stdout",
     "output_type": "stream",
     "text": [
      "The temperatures that are greater than or equal to 70ºC are [70, 76, 80, 81, 80, 83, 90, 79].\n"
     ]
    }
   ],
   "source": [
    "over_70 = [x for x in temperatures_C if (x >= 70)]\n",
    "print('The temperatures that are greater than or equal to 70ºC are ' + str(over_70) + '.')"
   ]
  },
  {
   "cell_type": "markdown",
   "metadata": {},
   "source": [
    "#### 4. Find the average temperature of the day and store it in a variable."
   ]
  },
  {
   "cell_type": "code",
   "execution_count": 5,
   "metadata": {},
   "outputs": [
    {
     "name": "stdout",
     "output_type": "stream",
     "text": [
      "The average temperature of the day is 60.25.\n"
     ]
    }
   ],
   "source": [
    "average = sum(temperatures_C) / len(temperatures_C)\n",
    "print('The average temperature of the day is ' + str(average) + '.')"
   ]
  },
  {
   "cell_type": "markdown",
   "metadata": {},
   "source": [
    "#### 5. Imagine that there was a sensor failure at 3am and the data for that specific hour was not recorded. How would you estimate the missing value? Replace the current value of the list at 3am for an estimation. "
   ]
  },
  {
   "cell_type": "code",
   "execution_count": 6,
   "metadata": {},
   "outputs": [
    {
     "name": "stdout",
     "output_type": "stream",
     "text": [
      "The estimation of the 3am temperature is 61.5 and the new temperatures_C-list is: [33, 66, 65, 61.5, 59, 60, 62, 64, 70, 76, 80, 81, 80, 83, 90, 79, 61, 53, 50, 49, 53, 48, 45, 39].\n"
     ]
    }
   ],
   "source": [
    "not_0 = [x for x in temperatures_C if (x > 0)]\n",
    "new_min = min(not_0)\n",
    "new_3am = (max_temp + new_min) / 2\n",
    "\n",
    "for i in temperatures_C: \n",
    "    while i == 0:\n",
    "        index = temperatures_C.index(0)\n",
    "        temperatures_C[index] = new_3am\n",
    "        break\n",
    "\n",
    "print('The estimation of the 3am temperature is ' + str(new_3am) + ' and the new temperatures_C-list is: ' + str(temperatures_C) + '.')"
   ]
  },
  {
   "cell_type": "markdown",
   "metadata": {},
   "source": [
    "#### 6. Bonus: the maintenance staff is from the United States and does not understand the international metric system. Help them by converting the temperatures from Celsius to Fahrenheit.\n",
    "To know more about temperature conversion check this [link](https://en.wikipedia.org/wiki/Conversion_of_units_of_temperature).\n",
    "\n",
    "**Formula**: \n",
    "\n",
    "$F = 1.8 * C + 32$"
   ]
  },
  {
   "cell_type": "code",
   "execution_count": 7,
   "metadata": {},
   "outputs": [
    {
     "name": "stdout",
     "output_type": "stream",
     "text": [
      "The temperature list in Fahrenheit is [91.4, 150.8, 149.0, 142.7, 138.2, 140.0, 143.60000000000002, 147.2, 158.0, 168.8, 176.0, 177.8, 176.0, 181.4, 194.0, 174.20000000000002, 141.8, 127.4, 122.0, 120.2, 127.4, 118.4, 113.0, 102.2].\n"
     ]
    }
   ],
   "source": [
    "def to_fahrenheit(new_list):\n",
    "    # f_list = [round((1.8*x + 32), 2) for x in new_list]\n",
    "    f_list = [(1.8*x + 32) for x in new_list]\n",
    "    return f_list\n",
    "\n",
    "fahrenheit = to_fahrenheit(temperatures_C) \n",
    "print('The temperature list in Fahrenheit is ' + str(fahrenheit) + '.')"
   ]
  },
  {
   "cell_type": "markdown",
   "metadata": {},
   "source": [
    "#### 7. Make a decision!\n",
    "Now it's time to make a decision taking into account what you have seen until now. \n",
    "\n",
    "Remember that if one of the following events occurs, then the cooling system needs to be replaced for a new one to avoid damaging the processor.\n",
    "* More than 4 temperatures are greater than or equal to 70ºC.\n",
    "* Any temperature is above 80ºC.\n",
    "* The average temperature exceeds 65ºC.\n",
    "\n",
    "#### To make your decision, check if any of the three conditions above is met. You might need to use some of the variables you created in steps 1 to 6. Print a message to show if the cooling system needs to be changed or not."
   ]
  },
  {
   "cell_type": "code",
   "execution_count": 8,
   "metadata": {},
   "outputs": [
    {
     "name": "stdout",
     "output_type": "stream",
     "text": [
      "Change the cooling system! Because: There are more than 4 temperatures that are greater than or equal to 70ºC. --- There is at least one temperature above 80ºC. --- The average temperature does not exceed 65ºC.\n",
      "True True False\n"
     ]
    }
   ],
   "source": [
    "event1 = ''\n",
    "event2 = ''\n",
    "event3 = ''\n",
    "\n",
    "event1_bool = False\n",
    "event2_bool = False\n",
    "event3_bool = False\n",
    "\n",
    "if len(over_70) >= 4:\n",
    "    event1 = 'There are more than 4 temperatures that are greater than or equal to 70ºC.'\n",
    "    event1_bool = True\n",
    "else:\n",
    "    event1 = 'There are not more than 4 temperatures that are greater than or equal to 70ºC.'\n",
    "    event1_bool = False\n",
    "        \n",
    "for a in over_70:\n",
    "    if a > 80:\n",
    "        event2 = 'There is at least one temperature above 80ºC.'\n",
    "        event2_bool = True\n",
    "        break\n",
    "    else:\n",
    "        event2 = 'There is no temperature above 80ºC.'\n",
    "        event2_bool = False\n",
    "        \n",
    "if average > 65:\n",
    "    event3 = 'The average temperature exceeds 65ºC.'\n",
    "    event3_bool = True\n",
    "else:\n",
    "    event3 = 'The average temperature does not exceed 65ºC.'\n",
    "    event3_bool = False\n",
    "        \n",
    "if event1_bool or event2_bool or event3_bool:\n",
    "    print('Change the cooling system! Because: ' + event1 + ' --- ' + event2 + ' --- ' + event3)\n",
    "else:\n",
    "    print('The cooling system does not need to be changed.')\n",
    "    \n",
    "print(event1_bool, event2_bool, event3_bool)"
   ]
  },
  {
   "cell_type": "markdown",
   "metadata": {},
   "source": [
    "## Bonus\n",
    "\n",
    "The company has decided that the decision you made is not valid. They want you to analyze the data again but this time, the conditions that need to be met in order to change the cooling system are different.\n",
    "\n",
    "This time, if one of the following events occurs, then the cooling system needs to be replaced:\n",
    "* The temperature is greater than 70ºC during more than 4 consecutive hours.\n",
    "* Any temperature is above 80ºC.\n",
    "* The average temperature exceeds 65ºC.\n",
    "\n",
    "Follow the steps so that you can make the decision.\n",
    "\n",
    "#### 1. Create a list with the hours where the temperature is greater than 70ºC. Store it in a variable."
   ]
  },
  {
   "cell_type": "code",
   "execution_count": 9,
   "metadata": {},
   "outputs": [
    {
     "name": "stdout",
     "output_type": "stream",
     "text": [
      "The hours of the temperatures that are greater than or equal to 70ºC are [9, 10, 11, 12, 13, 14, 15].\n"
     ]
    }
   ],
   "source": [
    "over_70_hours = []\n",
    "i = 0\n",
    "\n",
    "for temperature in temperatures_C:\n",
    "    if(temperature > 70):\n",
    "        over_70_hours.append(i)\n",
    "    i += 1\n",
    "\n",
    "print('The hours of the temperatures that are greater than or equal to 70ºC are ' + str(over_70_hours) + '.')"
   ]
  },
  {
   "cell_type": "markdown",
   "metadata": {},
   "source": [
    "#### 2. Check if the list you created in step 1 has more than 4 consecutive hours. "
   ]
  },
  {
   "cell_type": "code",
   "execution_count": 10,
   "metadata": {},
   "outputs": [
    {
     "name": "stdout",
     "output_type": "stream",
     "text": [
      "The list has more than 4 consecutive hours.\n"
     ]
    }
   ],
   "source": [
    "counter = 0\n",
    "index = 0\n",
    "event4 = ''\n",
    "event4_bool = False\n",
    "\n",
    "while index <= len(over_70_hours) - 1:\n",
    "    if (index == len(over_70_hours) - 1) and (over_70_hours[index] - 1 == over_70_hours[index - 1]):\n",
    "        counter += 1\n",
    "        if counter > 4:\n",
    "            event4 = 'The temperature is greater than 70ºC during more than 4 consecutive hours.'\n",
    "            event4_bool = True\n",
    "            print('The list has more than 4 consecutive hours.')\n",
    "        else:\n",
    "            event4 = 'The temperature is not greater than 70ºC during more than 4 consecutive hours.'\n",
    "            event4_bool = False\n",
    "            print('The list does not have more than 4 consecutive hours.')\n",
    "    elif over_70_hours[index] + 1 == over_70_hours[index + 1]:\n",
    "        counter += 1\n",
    "        if counter > 4:\n",
    "            event4 = 'The temperature is greater than 70ºC during more than 4 consecutive hours.'\n",
    "            event4_bool = True\n",
    "            print('The list has more than 4 consecutive hours.')\n",
    "            break\n",
    "    elif over_70_hours[index] + 1 != over_70_hours[index + 1]:\n",
    "        counter = 0    \n",
    "    index += 1"
   ]
  },
  {
   "cell_type": "markdown",
   "metadata": {},
   "source": [
    "#### 3. Make the decision!\n",
    "To make your decision, check if any of the three conditions is met. Print a message to show if the cooling system needs to be changed or not."
   ]
  },
  {
   "cell_type": "code",
   "execution_count": 11,
   "metadata": {},
   "outputs": [
    {
     "name": "stdout",
     "output_type": "stream",
     "text": [
      "Change the cooling system! Because: The temperature is greater than 70ºC during more than 4 consecutive hours. --- There is at least one temperature above 80ºC. --- The average temperature does not exceed 65ºC.\n",
      "True True False\n"
     ]
    }
   ],
   "source": [
    "if event4_bool or event2_bool or event3_bool:\n",
    "    print('Change the cooling system! Because: ' + event4 + ' --- ' + event2 + ' --- ' + event3)\n",
    "else:\n",
    "    print('The cooling system does not need to be changed.')\n",
    "    \n",
    "print(event4_bool, event2_bool, event3_bool)"
   ]
  },
  {
   "cell_type": "markdown",
   "metadata": {},
   "source": [
    "#### 4. Find the average value of the temperature lists (ºC and ºF). What is the relation between both average values?"
   ]
  },
  {
   "cell_type": "code",
   "execution_count": 12,
   "metadata": {},
   "outputs": [
    {
     "name": "stdout",
     "output_type": "stream",
     "text": [
      "145.0625\n",
      "The average value of the temperature lists (ºC and ºF) are: 62.8125ºC and 145.0625ºF. The conversion formula Celsius-to-Fahrenheit is also applicable to the average of the Celsius temperature.\n"
     ]
    }
   ],
   "source": [
    "average_C = sum(temperatures_C) / len(temperatures_C)\n",
    "average_F = sum(fahrenheit) / len(fahrenheit)\n",
    "\n",
    "g = 1.8 * average_C +32\n",
    "print(g)\n",
    "\n",
    "print('The average value of the temperature lists (ºC and ºF) are: ' + str(average_C) + 'ºC and '  + str(average_F) + 'ºF. The conversion formula Celsius-to-Fahrenheit is also applicable to the average of the Celsius temperature.')"
   ]
  },
  {
   "cell_type": "markdown",
   "metadata": {},
   "source": [
    "#### 5. Find the standard deviation of the temperature lists (ºC and ºF). What is the relation between both standard deviations?"
   ]
  },
  {
   "cell_type": "code",
   "execution_count": 13,
   "metadata": {},
   "outputs": [
    {
     "name": "stdout",
     "output_type": "stream",
     "text": [
      "1.7999999999999996\n",
      "The standard deviations are for celsius 14.635012598218015 and for fahrenheit 26.343022676792422.\n"
     ]
    }
   ],
   "source": [
    "import math\n",
    "\n",
    "def stan_dev(new_list):\n",
    "    index = 0\n",
    "    variance = 0\n",
    "    temp_list = [] \n",
    "    average = sum(new_list) / len(new_list)\n",
    "    while index <= len(new_list) - 1:\n",
    "        temp_list.append((new_list[index] - average)**2)\n",
    "        index += 1\n",
    "                         \n",
    "    sum_temp_list = sum(temp_list)\n",
    "    variance = (1 / len(new_list)) * sum_temp_list \n",
    "    return variance\n",
    "\n",
    "sd_C = stan_dev(temperatures_C)\n",
    "sd_F = stan_dev(fahrenheit)\n",
    "\n",
    "h = math.sqrt(sd_F) / math.sqrt(sd_C)\n",
    "print(h)\n",
    "    \n",
    "print(\"The standard deviations are for celsius \" + str(math.sqrt(sd_C)) + \" and for fahrenheit \" + str(math.sqrt(sd_F)) + \".\")"
   ]
  },
  {
   "cell_type": "code",
   "execution_count": null,
   "metadata": {},
   "outputs": [],
   "source": []
  }
 ],
 "metadata": {
  "kernelspec": {
   "display_name": "Python 3",
   "language": "python",
   "name": "python3"
  },
  "language_info": {
   "codemirror_mode": {
    "name": "ipython",
    "version": 3
   },
   "file_extension": ".py",
   "mimetype": "text/x-python",
   "name": "python",
   "nbconvert_exporter": "python",
   "pygments_lexer": "ipython3",
   "version": "3.9.1"
  }
 },
 "nbformat": 4,
 "nbformat_minor": 2
}
